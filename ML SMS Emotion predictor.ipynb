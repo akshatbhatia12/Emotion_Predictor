{
 "cells": [
  {
   "cell_type": "markdown",
   "id": "eb1a6a78",
   "metadata": {},
   "source": [
    "create a csv file, with two columns  column1 message, column2 emotion. Put 15 messages few with happy emotions, and few with sad emotions in the dataset. Apply countVectorization for feature extraction and create a classification model that takes message as inpiut and predicts corresponding emotions "
   ]
  },
  {
   "cell_type": "code",
   "execution_count": 1,
   "id": "a1f72af0",
   "metadata": {},
   "outputs": [],
   "source": [
    "import pandas as pd\n",
    "import numpy as np\n",
    "from sklearn.feature_extraction.text import CountVectorizer\n",
    "from sklearn.pipeline import make_pipeline"
   ]
  },
  {
   "cell_type": "code",
   "execution_count": 2,
   "id": "f7f976f7",
   "metadata": {},
   "outputs": [],
   "source": [
    "from sklearn.naive_bayes import BernoulliNB\n"
   ]
  },
  {
   "cell_type": "code",
   "execution_count": 3,
   "id": "1e2adc6a",
   "metadata": {},
   "outputs": [],
   "source": [
    "data=pd.read_excel('emotions.xlsx')"
   ]
  },
  {
   "cell_type": "code",
   "execution_count": 4,
   "id": "5858b6cc",
   "metadata": {},
   "outputs": [
    {
     "data": {
      "text/html": [
       "<div>\n",
       "<style scoped>\n",
       "    .dataframe tbody tr th:only-of-type {\n",
       "        vertical-align: middle;\n",
       "    }\n",
       "\n",
       "    .dataframe tbody tr th {\n",
       "        vertical-align: top;\n",
       "    }\n",
       "\n",
       "    .dataframe thead th {\n",
       "        text-align: right;\n",
       "    }\n",
       "</style>\n",
       "<table border=\"1\" class=\"dataframe\">\n",
       "  <thead>\n",
       "    <tr style=\"text-align: right;\">\n",
       "      <th></th>\n",
       "      <th>message</th>\n",
       "      <th>emotions</th>\n",
       "    </tr>\n",
       "  </thead>\n",
       "  <tbody>\n",
       "    <tr>\n",
       "      <th>0</th>\n",
       "      <td>Hope you have a lovely day</td>\n",
       "      <td>happy</td>\n",
       "    </tr>\n",
       "    <tr>\n",
       "      <th>1</th>\n",
       "      <td>That’s a nice dress that  you are wearing, it ...</td>\n",
       "      <td>happy</td>\n",
       "    </tr>\n",
       "    <tr>\n",
       "      <th>2</th>\n",
       "      <td>I am very upset.</td>\n",
       "      <td>sad</td>\n",
       "    </tr>\n",
       "  </tbody>\n",
       "</table>\n",
       "</div>"
      ],
      "text/plain": [
       "                                             message emotions\n",
       "0                         Hope you have a lovely day    happy\n",
       "1  That’s a nice dress that  you are wearing, it ...    happy\n",
       "2                                   I am very upset.      sad"
      ]
     },
     "execution_count": 4,
     "metadata": {},
     "output_type": "execute_result"
    }
   ],
   "source": [
    "data.head(3)\n"
   ]
  },
  {
   "cell_type": "code",
   "execution_count": 5,
   "id": "60ab0141",
   "metadata": {},
   "outputs": [
    {
     "data": {
      "text/plain": [
       "array(['happy', 'sad'], dtype=object)"
      ]
     },
     "execution_count": 5,
     "metadata": {},
     "output_type": "execute_result"
    }
   ],
   "source": [
    "data['emotions'].unique()"
   ]
  },
  {
   "cell_type": "code",
   "execution_count": 6,
   "id": "8189e04f",
   "metadata": {},
   "outputs": [],
   "source": [
    "x=data['message'].values"
   ]
  },
  {
   "cell_type": "code",
   "execution_count": 7,
   "id": "64538987",
   "metadata": {},
   "outputs": [],
   "source": [
    "y=data['emotions'].values"
   ]
  },
  {
   "cell_type": "code",
   "execution_count": 8,
   "id": "3980e5cd",
   "metadata": {},
   "outputs": [],
   "source": [
    "x_train=x[:42]"
   ]
  },
  {
   "cell_type": "code",
   "execution_count": 9,
   "id": "50cf7811",
   "metadata": {},
   "outputs": [],
   "source": [
    "y_train=y[:42]"
   ]
  },
  {
   "cell_type": "code",
   "execution_count": 10,
   "id": "701d13dd",
   "metadata": {},
   "outputs": [],
   "source": [
    "x_test=x[42:]"
   ]
  },
  {
   "cell_type": "code",
   "execution_count": 11,
   "id": "37aa6ef9",
   "metadata": {},
   "outputs": [],
   "source": [
    "y_test=y[42:]"
   ]
  },
  {
   "cell_type": "code",
   "execution_count": 12,
   "id": "cae1267b",
   "metadata": {},
   "outputs": [
    {
     "data": {
      "text/plain": [
       "((42,), (42,), (7,), (7,))"
      ]
     },
     "execution_count": 12,
     "metadata": {},
     "output_type": "execute_result"
    }
   ],
   "source": [
    "x_train.shape,y_train.shape,x_test.shape,y_test.shape"
   ]
  },
  {
   "cell_type": "code",
   "execution_count": 13,
   "id": "66a6d54f",
   "metadata": {},
   "outputs": [],
   "source": [
    "model2=make_pipeline(CountVectorizer(),BernoulliNB())"
   ]
  },
  {
   "cell_type": "code",
   "execution_count": 14,
   "id": "8539ae31",
   "metadata": {},
   "outputs": [],
   "source": [
    "bnb=model2.fit(x_train,y_train)"
   ]
  },
  {
   "cell_type": "code",
   "execution_count": 15,
   "id": "28d08988",
   "metadata": {},
   "outputs": [],
   "source": [
    "y_prediction=bnb.predict(x_test)"
   ]
  },
  {
   "cell_type": "code",
   "execution_count": 16,
   "id": "9f1886c9",
   "metadata": {},
   "outputs": [],
   "source": [
    "from  sklearn.metrics import accuracy_score,confusion_matrix"
   ]
  },
  {
   "cell_type": "code",
   "execution_count": 17,
   "id": "dd32e431",
   "metadata": {},
   "outputs": [
    {
     "name": "stdout",
     "output_type": "stream",
     "text": [
      "0.8571428571428571\n"
     ]
    }
   ],
   "source": [
    "print(accuracy_score(y_test,y_prediction))"
   ]
  },
  {
   "cell_type": "code",
   "execution_count": 18,
   "id": "7f8f9ebe",
   "metadata": {},
   "outputs": [
    {
     "name": "stdout",
     "output_type": "stream",
     "text": [
      "[[1 1]\n",
      " [0 5]]\n"
     ]
    }
   ],
   "source": [
    "print(confusion_matrix(y_test,y_prediction))"
   ]
  },
  {
   "cell_type": "code",
   "execution_count": null,
   "id": "6cb78952",
   "metadata": {},
   "outputs": [
    {
     "name": "stdout",
     "output_type": "stream",
     "text": [
      "Please enter your raw text document:\n",
      "Have a great day\n",
      "['sad']\n",
      "was the input predicted right?? Yes/No\n",
      "no\n",
      "Please enter the correct label (happy/sad):\n",
      "happy\n",
      "Do you want to continue?(Yes/No)\n",
      "yes\n",
      "Please enter your raw text document:\n",
      "have a great day\n",
      "['happy']\n",
      "was the input predicted right?? Yes/No\n"
     ]
    }
   ],
   "source": [
    "while True:    \n",
    "    print(\"Please enter your raw text document:\")\n",
    "    raw_text = input()\n",
    "    print(bnb.predict([raw_text]))\n",
    "    print('was the input predicted right?? Yes/No')\n",
    "    feedback=input()\n",
    "    if feedback.lower() == 'no':\n",
    "        print('Please enter the correct label (happy/sad):')\n",
    "        correct_label=input()\n",
    "        x_train=np.append(x_train,raw_text)\n",
    "        y_train=np.append(y_train,correct_label)\n",
    "        np.save('x_train.npy', x_train)\n",
    "        np.save('y_train.npy', y_train)\n",
    "        try:\n",
    "            x_train = np.load('x_train.npy',allow_pickle=True)#allow_pickle-- any object including string and non-numeric values\n",
    "            y_train = np.load('y_train.npy',allow_pickle=True)\n",
    "        except IOError:\n",
    "            x_train = np.array([])\n",
    "            y_train = np.array([])\n",
    "        bnb= model2.fit(x_train,y_train)\n",
    "    print('Do you want to continue?(Yes/No)')\n",
    "    continue_process=input()\n",
    "    if continue_process.lower() != 'yes':\n",
    "        break"
   ]
  },
  {
   "cell_type": "code",
   "execution_count": null,
   "id": "6eed6b1c",
   "metadata": {},
   "outputs": [],
   "source": []
  },
  {
   "cell_type": "code",
   "execution_count": null,
   "id": "7906d822",
   "metadata": {},
   "outputs": [],
   "source": [
    "    \n"
   ]
  }
 ],
 "metadata": {
  "kernelspec": {
   "display_name": "Python 3 (ipykernel)",
   "language": "python",
   "name": "python3"
  },
  "language_info": {
   "codemirror_mode": {
    "name": "ipython",
    "version": 3
   },
   "file_extension": ".py",
   "mimetype": "text/x-python",
   "name": "python",
   "nbconvert_exporter": "python",
   "pygments_lexer": "ipython3",
   "version": "3.9.12"
  }
 },
 "nbformat": 4,
 "nbformat_minor": 5
}
